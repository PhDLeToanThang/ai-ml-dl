{
 "cells": [
  {
   "cell_type": "markdown",
   "metadata": {
    "id": "t6MPjfT5NrKQ"
   },
   "source": [
    "<div align=\"center\">\n",
    "  <a href=\"https://ultralytics.com/yolo\" target=\"_blank\">\n",
    "    <img width=\"1024\" src=\"https://raw.githubusercontent.com/ultralytics/assets/main/yolov5/v70/splash.png\">\n",
    "  </a>\n",
    "\n",
    "  [中文](https://docs.ultralytics.com/zh/) | [한국어](https://docs.ultralytics.com/ko/) | [日本語](https://docs.ultralytics.com/ja/) | [Русский](https://docs.ultralytics.com/ru/) | [Deutsch](https://docs.ultralytics.com/de/) | [Français](https://docs.ultralytics.com/fr/) | [Español](https://docs.ultralytics.com/es/) | [Português](https://docs.ultralytics.com/pt/) | [Türkçe](https://docs.ultralytics.com/tr/) | [Tiếng Việt](https://docs.ultralytics.com/vi/) | [العربية](https://docs.ultralytics.com/ar/)\n",
    "\n",
    "  <a href=\"https://github.com/ultralytics/ultralytics/actions/workflows/ci.yml\"><img src=\"https://github.com/ultralytics/ultralytics/actions/workflows/ci.yml/badge.svg\" alt=\"Ultralytics CI\"></a>\n",
    "  <a href=\"https://console.paperspace.com/github/ultralytics/ultralytics\"><img src=\"https://assets.paperspace.io/img/gradient-badge.svg\" alt=\"Run on Gradient\"/></a>\n",
    "  <a href=\"https://colab.research.google.com/github/ultralytics/yolov5/blob/master/tutorial.ipynb\"><img src=\"https://colab.research.google.com/assets/colab-badge.svg\" alt=\"Open In Colab\"></a>\n",
    "  <a href=\"https://www.kaggle.com/models/ultralytics/yolo11\"><img src=\"https://kaggle.com/static/images/open-in-kaggle.svg\" alt=\"Open In Kaggle\"></a>\n",
    "\n",
    "  <a href=\"https://ultralytics.com/discord\"><img alt=\"Discord\" src=\"https://img.shields.io/discord/1089800235347353640?logo=discord&logoColor=white&label=Discord&color=blue\"></a>\n",
    "  <a href=\"https://community.ultralytics.com\"><img alt=\"Ultralytics Forums\" src=\"https://img.shields.io/discourse/users?server=https%3A%2F%2Fcommunity.ultralytics.com&logo=discourse&label=Forums&color=blue\"></a>\n",
    "  <a href=\"https://reddit.com/r/ultralytics\"><img alt=\"Ultralytics Reddit\" src=\"https://img.shields.io/reddit/subreddit-subscribers/ultralytics?style=flat&logo=reddit&logoColor=white&label=Reddit&color=blue\"></a>\n",
    "</div>\n",
    "\n",
    "This **Ultralytics YOLOv5 Colab Notebook** is the easiest way to get started with [YOLO models](https://www.ultralytics.com/yolo)—no installation needed. Built by [Ultralytics](https://www.ultralytics.com/), the creators of YOLO, this notebook walks you through running **state-of-the-art** models directly in your browser.\n",
    "\n",
    "Ultralytics models are constantly updated for performance and flexibility. They're **fast**, **accurate**, and **easy to use**, and they excel at [object detection](https://docs.ultralytics.com/tasks/detect/), [tracking](https://docs.ultralytics.com/modes/track/), [instance segmentation](https://docs.ultralytics.com/tasks/segment/), [image classification](https://docs.ultralytics.com/tasks/classify/), and [pose estimation](https://docs.ultralytics.com/tasks/pose/).\n",
    "\n",
    "Find detailed documentation in the [Ultralytics Docs](https://docs.ultralytics.com/). Get support via [GitHub Issues](https://github.com/ultralytics/ultralytics/issues/new/choose). Join discussions on [Discord](https://discord.com/invite/ultralytics), [Reddit](https://www.reddit.com/r/ultralytics/), and the [Ultralytics Community Forums](https://community.ultralytics.com/)!\n",
    "\n",
    "Request an Enterprise License for commercial use at [Ultralytics Licensing](https://www.ultralytics.com/license).\n",
    "\n",
    "<br>\n",
    "<div>\n",
    "  <a href=\"https://www.youtube.com/watch?v=ZN3nRZT7b24\" target=\"_blank\">\n",
    "    <img src=\"https://img.youtube.com/vi/ZN3nRZT7b24/maxresdefault.jpg\" alt=\"Ultralytics Video\" width=\"640\" style=\"border-radius: 10px; box-shadow: 0 4px 8px rgba(0, 0, 0, 0.2);\">\n",
    "  </a>\n",
    "\n",
    "  <p style=\"font-size: 16px; font-family: Arial, sans-serif; color: #555;\">\n",
    "    <strong>Watch: </strong> How to Train\n",
    "    <a href=\"https://github.com/ultralytics/ultralytics\">Ultralytics</a>\n",
    "    <a href=\"https://docs.ultralytics.com/models/yolo11/\">YOLO11</a> Model on Custom Dataset using Google Colab Notebook 🚀\n",
    "  </p>\n",
    "</div>"
   ]
  },
  {
   "cell_type": "markdown",
   "metadata": {
    "id": "7mGmQbAO5pQb"
   },
   "source": [
    "# Setup\n",
    "\n",
    "Clone GitHub [repository](https://github.com/ultralytics/yolov5), install [dependencies](https://github.com/ultralytics/yolov5/blob/master/requirements.txt) and check PyTorch and GPU."
   ]
  },
  {
   "cell_type": "code",
   "execution_count": null,
   "metadata": {},
   "outputs": [],
   "source": [
    "#!pip install torch\n",
    "#!pip install utils\n",
    "#!pip install ultralytics\n",
    "!python.exe -m pip install --upgrade pip\n",
    "!pip install --upgrade ultralytics"
   ]
  },
  {
   "cell_type": "code",
   "execution_count": null,
   "metadata": {
    "colab": {
     "base_uri": "https://localhost:8080/"
    },
    "id": "wbvMlHd_QwMG",
    "outputId": "e8225db4-e61d-4640-8b1f-8bfce3331cea"
   },
   "outputs": [],
   "source": [
    "#!git clone https://github.com/ultralytics/yolov5  # clone\n",
    "#%cd yolov5\n",
    "#%pip install -qr requirements.txt comet_ml  # install\n",
    "\n",
    "import torch\n",
    "import utils\n",
    "display = utils.notebook_init()  # checks"
   ]
  },
  {
   "cell_type": "markdown",
   "metadata": {
    "id": "4JnkELT0cIJg"
   },
   "source": [
    "# Detect\n",
    "\n",
    "`detect.py` runs YOLOv5 inference on a variety of sources, downloading models automatically from the [latest YOLOv5 release](https://github.com/ultralytics/yolov5/releases), and saving results to `runs/detect`. Example inference sources are:\n",
    "\n",
    "```shell\n",
    "python detect.py --source 0  # webcam\n",
    "                          img.jpg  # image\n",
    "                          vid.mp4  # video\n",
    "                          screen  # screenshot\n",
    "                          path/  # directory\n",
    "                         'path/*.jpg'  # glob\n",
    "                         'https://youtu.be/LNwODJXcvt4'  # YouTube\n",
    "                         'rtsp://example.com/media.mp4'  # RTSP, RTMP, HTTP stream\n",
    "```"
   ]
  },
  {
   "cell_type": "code",
   "execution_count": null,
   "metadata": {
    "colab": {
     "base_uri": "https://localhost:8080/"
    },
    "id": "zR9ZbuQCH7FX",
    "outputId": "284ef04b-1596-412f-88f6-948828dd2b49"
   },
   "outputs": [],
   "source": [
    "!python detect.py --weights yolov5s.pt --img 640 --conf 0.25 --source data/images\n",
    "# display.Image(filename='runs/detect/exp/zidane.jpg', width=600)"
   ]
  },
  {
   "cell_type": "markdown",
   "metadata": {
    "id": "hkAzDWJ7cWTr"
   },
   "source": [
    "&nbsp;&nbsp;&nbsp;&nbsp;&nbsp;&nbsp;&nbsp;&nbsp;\n",
    "<img align=\"left\" src=\"https://user-images.githubusercontent.com/26833433/127574988-6a558aa1-d268-44b9-bf6b-62d4c605cc72.jpg\" width=\"600\">"
   ]
  },
  {
   "cell_type": "markdown",
   "metadata": {
    "id": "0eq1SMWl6Sfn"
   },
   "source": [
    "# Validate\n",
    "Validate a model's accuracy on the [COCO](https://cocodataset.org/#home) dataset's `val` or `test` splits. Models are downloaded automatically from the [latest YOLOv5 release](https://github.com/ultralytics/yolov5/releases). To show results by class use the `--verbose` flag."
   ]
  },
  {
   "cell_type": "code",
   "execution_count": null,
   "metadata": {
    "colab": {
     "base_uri": "https://localhost:8080/"
    },
    "id": "WQPtK1QYVaD_",
    "outputId": "cf7d52f0-281c-4c96-a488-79f5908f8426"
   },
   "outputs": [],
   "source": [
    "# Download COCO val\n",
    "torch.hub.download_url_to_file('https://github.com/ultralytics/assets/releases/download/v0.0.0/coco2017val.zip', 'tmp.zip')  # download (780M - 5000 images)\n",
    "!unzip -q tmp.zip -d ../datasets && rm tmp.zip  # unzip"
   ]
  },
  {
   "cell_type": "code",
   "execution_count": null,
   "metadata": {
    "colab": {
     "base_uri": "https://localhost:8080/"
    },
    "id": "X58w8JLpMnjH",
    "outputId": "3e234e05-ee8b-4ad1-b1a4-f6a55d5e4f3d"
   },
   "outputs": [],
   "source": [
    "# Validate YOLOv5s on COCO val\n",
    "!python val.py --weights yolov5s.pt --data coco.yaml --img 640 --half"
   ]
  },
  {
   "cell_type": "markdown",
   "metadata": {
    "id": "ZY2VXXXu74w5"
   },
   "source": [
    "# Train\n",
    "\n",
    "<p align=\"\"><a href=\"https://ultralytics.com/hub\"><img width=\"1000\" src=\"https://github.com/ultralytics/assets/raw/main/im/integrations-loop.png\"/></a></p>\n",
    "Close the active learning loop by sampling images from your inference conditions with the `roboflow` pip package\n",
    "<br><br>\n",
    "\n",
    "Train a YOLOv5s model on the [COCO128](https://www.kaggle.com/datasets/ultralytics/coco128) dataset with `--data coco128.yaml`, starting from pretrained `--weights yolov5s.pt`, or from randomly initialized `--weights '' --cfg yolov5s.yaml`.\n",
    "\n",
    "- **Pretrained [Models](https://github.com/ultralytics/yolov5/tree/master/models)** are downloaded\n",
    "automatically from the [latest YOLOv5 release](https://github.com/ultralytics/yolov5/releases)\n",
    "- **[Datasets](https://github.com/ultralytics/yolov5/tree/master/data)** available for autodownload include: [COCO](https://github.com/ultralytics/yolov5/blob/master/data/coco.yaml), [COCO128](https://github.com/ultralytics/yolov5/blob/master/data/coco128.yaml), [VOC](https://github.com/ultralytics/yolov5/blob/master/data/VOC.yaml), [Argoverse](https://github.com/ultralytics/yolov5/blob/master/data/Argoverse.yaml), [VisDrone](https://github.com/ultralytics/yolov5/blob/master/data/VisDrone.yaml), [GlobalWheat](https://github.com/ultralytics/yolov5/blob/master/data/GlobalWheat2020.yaml), [xView](https://github.com/ultralytics/yolov5/blob/master/data/xView.yaml), [Objects365](https://github.com/ultralytics/yolov5/blob/master/data/Objects365.yaml), [SKU-110K](https://github.com/ultralytics/yolov5/blob/master/data/SKU-110K.yaml).\n",
    "- **Training Results** are saved to `runs/train/` with incrementing run directories, i.e. `runs/train/exp2`, `runs/train/exp3` etc.\n",
    "<br>\n",
    "\n",
    "A **Mosaic Dataloader** is used for training which combines 4 images into 1 mosaic."
   ]
  },
  {
   "cell_type": "code",
   "execution_count": null,
   "metadata": {
    "id": "i3oKtE4g-aNn"
   },
   "outputs": [],
   "source": [
    "#@title Select YOLOv5 🚀 logger {run: 'auto'}\n",
    "logger = 'Comet' #@param ['Comet', 'ClearML', 'TensorBoard']\n",
    "\n",
    "if logger == 'Comet':\n",
    "  %pip install -q comet_ml\n",
    "  import comet_ml; comet_ml.init()\n",
    "elif logger == 'ClearML':\n",
    "  %pip install -q clearml\n",
    "  import clearml; clearml.browser_login()\n",
    "elif logger == 'TensorBoard':\n",
    "  %load_ext tensorboard\n",
    "  %tensorboard --logdir runs/train"
   ]
  },
  {
   "cell_type": "code",
   "execution_count": null,
   "metadata": {
    "colab": {
     "base_uri": "https://localhost:8080/"
    },
    "id": "1NcFxRcFdJ_O",
    "outputId": "bbeeea2b-04fc-4185-aa64-258690495b5a"
   },
   "outputs": [],
   "source": [
    "# Train YOLOv5s on COCO128 for 3 epochs\n",
    "!python train.py --img 640 --batch 16 --epochs 3 --data coco128.yaml --weights yolov5s.pt --cache"
   ]
  },
  {
   "cell_type": "markdown",
   "metadata": {
    "id": "15glLzbQx5u0"
   },
   "source": [
    "# Visualize"
   ]
  },
  {
   "cell_type": "markdown",
   "metadata": {
    "id": "nWOsI5wJR1o3"
   },
   "source": [
    "## Comet Logging and Visualization 🌟 NEW\n",
    "\n",
    "[Comet](https://www.comet.com/site/lp/yolov5-with-comet/?utm_source=yolov5&utm_medium=partner&utm_campaign=partner_yolov5_2022&utm_content=yolov5_colab) is now fully integrated with YOLOv5. Track and visualize model metrics in real time, save your hyperparameters, datasets, and model checkpoints, and visualize your model predictions with [Comet Custom Panels](https://www.comet.com/docs/v2/guides/comet-dashboard/code-panels/about-panels/?utm_source=yolov5&utm_medium=partner&utm_campaign=partner_yolov5_2022&utm_content=yolov5_colab)! Comet makes sure you never lose track of your work and makes it easy to share results and collaborate across teams of all sizes!\n",
    "\n",
    "Getting started is easy:\n",
    "```shell\n",
    "pip install comet_ml  # 1. install\n",
    "export COMET_API_KEY=<Your API Key>  # 2. paste API key\n",
    "python train.py --img 640 --epochs 3 --data coco128.yaml --weights yolov5s.pt  # 3. train\n",
    "```\n",
    "To learn more about all of the supported Comet features for this integration, check out the [Comet Tutorial](https://docs.ultralytics.com/yolov5/tutorials/comet_logging_integration). If you'd like to learn more about Comet, head over to our [documentation](https://www.comet.com/docs/v2/?utm_source=yolov5&utm_medium=partner&utm_campaign=partner_yolov5_2022&utm_content=yolov5_colab). Get started by trying out the Comet Colab Notebook:\n",
    "[![Open In Colab](https://colab.research.google.com/assets/colab-badge.svg)](https://colab.research.google.com/drive/1RG0WOQyxlDlo5Km8GogJpIEJlg_5lyYO?usp=sharing)\n",
    "\n",
    "<a href=\"https://bit.ly/yolov5-readme-comet2\">\n",
    "<img alt=\"Comet Dashboard\" src=\"https://user-images.githubusercontent.com/26833433/202851203-164e94e1-2238-46dd-91f8-de020e9d6b41.png\" width=\"1280\"/></a>"
   ]
  },
  {
   "cell_type": "markdown",
   "metadata": {
    "id": "Lay2WsTjNJzP"
   },
   "source": [
    "## ClearML Logging and Automation 🌟 NEW\n",
    "\n",
    "[ClearML](https://cutt.ly/yolov5-notebook-clearml) is completely integrated into YOLOv5 to track your experimentation, manage dataset versions and even remotely execute training runs. To enable ClearML (check cells above):\n",
    "\n",
    "- `pip install clearml`\n",
    "- run `clearml-init` to connect to a ClearML server (**deploy your own [open-source server](https://github.com/allegroai/clearml-server)**, or use our [free hosted server](https://cutt.ly/yolov5-notebook-clearml))\n",
    "\n",
    "You'll get all the great expected features from an experiment manager: live updates, model upload, experiment comparison etc. but ClearML also tracks uncommitted changes and installed packages for example. Thanks to that ClearML Tasks (which is what we call experiments) are also reproducible on different machines! With only 1 extra line, we can schedule a YOLOv5 training task on a queue to be executed by any number of ClearML Agents (workers).\n",
    "\n",
    "You can use ClearML Data to version your dataset and then pass it to YOLOv5 simply using its unique ID. This will help you keep track of your data without adding extra hassle. Explore the [ClearML Tutorial](https://docs.ultralytics.com/yolov5/tutorials/clearml_logging_integration) for details!\n",
    "\n",
    "<a href=\"https://cutt.ly/yolov5-notebook-clearml\">\n",
    "<img alt=\"ClearML Experiment Management UI\" src=\"https://github.com/thepycoder/clearml_screenshots/raw/main/scalars.jpg\" width=\"1280\"/></a>"
   ]
  },
  {
   "cell_type": "markdown",
   "metadata": {
    "id": "-WPvRbS5Swl6"
   },
   "source": [
    "## Local Logging\n",
    "\n",
    "Training results are automatically logged with [Tensorboard](https://www.tensorflow.org/tensorboard) and [CSV](https://github.com/ultralytics/yolov5/pull/4148) loggers to `runs/train`, with a new experiment directory created for each new training as `runs/train/exp2`, `runs/train/exp3`, etc.\n",
    "\n",
    "This directory contains train and val statistics, mosaics, labels, predictions and augmentated mosaics, as well as metrics and charts including precision-recall (PR) curves and confusion matrices.\n",
    "\n",
    "<img alt=\"Local logging results\" src=\"https://user-images.githubusercontent.com/26833433/183222430-e1abd1b7-782c-4cde-b04d-ad52926bf818.jpg\" width=\"1280\"/>\n"
   ]
  },
  {
   "cell_type": "markdown",
   "metadata": {
    "id": "Zelyeqbyt3GD"
   },
   "source": [
    "# Environments\n",
    "\n",
    "YOLOv5 may be run in any of the following up-to-date verified environments (with all dependencies including [CUDA](https://developer.nvidia.com/cuda)/[CUDNN](https://developer.nvidia.com/cudnn), [Python](https://www.python.org/) and [PyTorch](https://pytorch.org/) preinstalled):\n",
    "\n",
    "- **Notebooks** with free GPU: <a href=\"https://bit.ly/yolov5-paperspace-notebook\"><img src=\"https://assets.paperspace.io/img/gradient-badge.svg\" alt=\"Run on Gradient\"></a> <a href=\"https://colab.research.google.com/github/ultralytics/yolov5/blob/master/tutorial.ipynb\"><img src=\"https://colab.research.google.com/assets/colab-badge.svg\" alt=\"Open In Colab\"></a> <a href=\"https://www.kaggle.com/models/ultralytics/yolov5\"><img src=\"https://kaggle.com/static/images/open-in-kaggle.svg\" alt=\"Open In Kaggle\"></a>\n",
    "- **Google Cloud** Deep Learning VM. See [GCP Quickstart Guide](https://docs.ultralytics.com/yolov5/environments/google_cloud_quickstart_tutorial/)\n",
    "- **Amazon** Deep Learning AMI. See [AWS Quickstart Guide](https://docs.ultralytics.com/yolov5/environments/aws_quickstart_tutorial/)\n",
    "- **Docker Image**. See [Docker Quickstart Guide](https://docs.ultralytics.com/yolov5/environments/docker_image_quickstart_tutorial/) <a href=\"https://hub.docker.com/r/ultralytics/yolov5\"><img src=\"https://img.shields.io/docker/pulls/ultralytics/yolov5?logo=docker\" alt=\"Docker Pulls\"></a>\n"
   ]
  },
  {
   "cell_type": "markdown",
   "metadata": {
    "id": "6Qu7Iesl0p54"
   },
   "source": [
    "# Status\n",
    "\n",
    "![YOLOv5 CI](https://github.com/ultralytics/yolov5/actions/workflows/ci-testing.yml/badge.svg)\n",
    "\n",
    "If this badge is green, all [YOLOv5 GitHub Actions](https://github.com/ultralytics/yolov5/actions) Continuous Integration (CI) tests are currently passing. CI tests verify correct operation of YOLOv5 training ([train.py](https://github.com/ultralytics/yolov5/blob/master/train.py)), testing ([val.py](https://github.com/ultralytics/yolov5/blob/master/val.py)), inference ([detect.py](https://github.com/ultralytics/yolov5/blob/master/detect.py)) and export ([export.py](https://github.com/ultralytics/yolov5/blob/master/export.py)) on macOS, Windows, and Ubuntu every 24 hours and on every commit.\n"
   ]
  },
  {
   "cell_type": "markdown",
   "metadata": {
    "id": "IEijrePND_2I"
   },
   "source": [
    "# Appendix\n",
    "\n",
    "Additional content below."
   ]
  },
  {
   "cell_type": "code",
   "execution_count": null,
   "metadata": {
    "id": "GMusP4OAxFu6"
   },
   "outputs": [],
   "source": [
    "# YOLOv5 PyTorch HUB Inference (DetectionModels only)\n",
    "import torch\n",
    "\n",
    "model = torch.hub.load('ultralytics/yolov5', 'yolov5s', force_reload=True, trust_repo=True)  # or yolov5n - yolov5x6 or custom\n",
    "im = 'https://ultralytics.com/images/zidane.jpg'  # file, Path, PIL.Image, OpenCV, nparray, list\n",
    "results = model(im)  # inference\n",
    "results.print()  # or .show(), .save(), .crop(), .pandas(), etc."
   ]
  },
  {
   "cell_type": "markdown",
   "metadata": {},
   "source": [
    "# Giải thích đoạn mã\n",
    "\n",
    "✅ Nhận diện đối tượng bằng YOLOv5 từ video MP4. \n",
    "\n",
    "✅ Đếm số lượng từng loại phương tiện (người đi bộ, xe đạp, xe máy, ô tô, xe buýt). \n",
    "\n",
    "✅ Lưu kết quả vào file CSV để phân tích sau. \n",
    "\n",
    "✅ Hiển thị bounding box trên video để kiểm tra trực quan."
   ]
  },
  {
   "cell_type": "code",
   "execution_count": null,
   "metadata": {},
   "outputs": [],
   "source": [
    "!pip install openpyxl"
   ]
  },
  {
   "cell_type": "code",
   "execution_count": null,
   "metadata": {},
   "outputs": [],
   "source": [
    "import cv2\n",
    "import torch\n",
    "import pandas as pd\n",
    "from ultralytics import YOLO\n",
    "\n",
    "# Load mô hình YOLOv5\n",
    "model = YOLO(\"yolov5s.pt\")  # Sử dụng mô hình YOLOv5 nhỏ gọn\n",
    "\n",
    "# Đường dẫn file video\n",
    "video_path = r\"C:\\Python311\\workspaces\\ai-video\\hq_6602009793454.mp4\"\n",
    "video = cv2.VideoCapture(video_path)\n",
    "\n",
    "# Danh sách các đối tượng cần đếm (cập nhật danh sách mới)\n",
    "object_classes = {\n",
    "    \"person\": \"Người đi bộ\",\n",
    "    \"bicycle\": \"Xe đạp\",\n",
    "    \"motorcycle\": \"Xe máy\",\n",
    "    \"car\": \"Ô tô dưới 5 chỗ\",\n",
    "    \"van\": \"Ô tô dưới 12 chỗ\",\n",
    "    \"bus\": \"Ô tô dưới 24 chỗ\",\n",
    "    \"truck\": \"Ô tô dưới 46 chỗ\",\n",
    "    \"double-decker\": \"Ô tô 2 tầng\",\n",
    "    \"three-wheeler\": \"Xe 3 gác\",\n",
    "    \"tricycle\": \"Xích lô 3 bánh\",\n",
    "    \"bike-taxi\": \"Xe đạp ôm 2 bánh\",\n",
    "    \"three-wheel-lam\": \"Xe lam 3 bánh\",\n",
    "    \"lambretta\": \"Xe Lambretta\",\n",
    "    \"tuktuk\": \"Xe túc túc thái\",\n",
    "    \"taxi\": \"Xe Taxi\",\n",
    "    \"electric-car\": \"Xe ô-tô điện\",\n",
    "    \"electric-motorcycle\": \"Xe máy điện\",\n",
    "    \"unknown\": \"Không biết\"\n",
    "}\n",
    "\n",
    "# Tạo DataFrame để lưu kết quả theo đúng định dạng mong muốn\n",
    "df = pd.DataFrame(columns=[\"FID\"] + list(object_classes.values()))\n",
    "\n",
    "frame_count = 0\n",
    "\n",
    "while True:\n",
    "    ret, frame = video.read()\n",
    "    if not ret:\n",
    "        break\n",
    "\n",
    "    frame_count += 1\n",
    "\n",
    "    # Nhận diện đối tượng bằng YOLOv5\n",
    "    results = model(frame)\n",
    "\n",
    "    # Đếm số lượng từng loại đối tượng\n",
    "    object_counts = {obj: 0 for obj in object_classes.keys()}\n",
    "\n",
    "    for box in results[0].boxes:\n",
    "        class_id = int(box.cls[0])  # Lấy ID lớp đối tượng\n",
    "        class_name = model.names[class_id]  # Lấy tên đối tượng từ mô hình\n",
    "\n",
    "        if class_name in object_classes:\n",
    "            object_counts[class_name] += 1\n",
    "\n",
    "    # Lưu kết quả vào DataFrame (mỗi frame một dòng)\n",
    "    df.loc[len(df)] = [frame_count] + [object_counts[obj] for obj in object_classes.keys()]\n",
    "\n",
    "    # Hiển thị video với bounding box\n",
    "    # results[0].show()\n",
    "\n",
    "    if cv2.waitKey(1) & 0xFF == ord('q'):\n",
    "        break\n",
    "\n",
    "video.release()\n",
    "cv2.destroyAllWindows()\n",
    "\n",
    "# Xuất dữ liệu thống kê ra file Excel\n",
    "df.to_excel(r\"C:\\Python311\\workspaces\\ai-video\\traffic_detail_report.xlsx\", index=False)\n",
    "\n",
    "print(\"Thống kê phương tiện đã được lưu vào 'traffic_detail_report.xlsx'\")"
   ]
  },
  {
   "attachments": {
    "ba34ca00-67cb-4888-953b-51961f2c1c2b.png": {
     "image/png": "[encoded data removed]"
    }
   },
   "cell_type": "markdown",
   "metadata": {},
   "source": [
    "![image.png](attachment:ba34ca00-67cb-4888-953b-51961f2c1c2b.png)\n",
    "\n",
    "# Debug hiệu chỉnh code và kết quả\n",
    "\n",
    ">> Tôi cần điều chỉnh 2 vấn đề sau trên code: Tắt không cho hiển thị màn hình windows phân tích Objects vì nó làm tăng thời gian và tăng RAM xử lý. và vấn đề trong file Excel là cột giá Frame tăng dần có phải là số thứ tự FrameID ? vậy nếu là Video Clip có chất lượng quay là 30 Frame per second thì trong từng khung hình Frame sẽ có hiện tượng các Object bị đếm trùng nhiều hơn 1 lần ví dụ người đi bộ ? vậy có thể thêm giúp tôi 1 dòng tính Counter và chia trung bình cho 30 để tính ra số Giây video quay và các cột phương tiện (Object detections) sẽ là Count tổng rồi chia 30 khung hình để khử giá trị bị trùng lặp ? cách trên có được coi là cách tính toán khử giá trị trùng lặp hợp lý ?\n",
    "\n",
    "Bạn có một cách tiếp cận khá logic để xử lý việc trùng lặp số lượng đối tượng trong mỗi giây của video! Hãy cùng điều chỉnh mã nguồn của bạn để giải quyết hai vấn đề quan trọng:\n",
    "\n",
    "**Những thay đổi chính:**\n",
    "- Tắt hiển thị cửa sổ phân tích Objects, giúp giảm tiêu tốn RAM và tăng tốc xử lý.\n",
    "\n",
    "**Điều chỉnh cách lưu dữ liệu:**\n",
    "- Thêm cột \"Time (seconds)\" để thể hiện thời gian quay video.\n",
    "- Đếm tổng số đối tượng trong 30 frame và tính trung bình để giảm bớt lỗi trùng lặp.\n",
    "- Cấu trúc dữ liệu: Cột là các loại phương tiện, dòng là thời gian theo giây."
   ]
  },
  {
   "cell_type": "code",
   "execution_count": null,
   "metadata": {},
   "outputs": [],
   "source": [
    "import cv2\n",
    "import torch\n",
    "import pandas as pd\n",
    "from ultralytics import YOLO\n",
    "\n",
    "# Load mô hình YOLOv5\n",
    "model = YOLO(\"yolov5s.pt\")  # Sử dụng mô hình YOLOv5 nhỏ gọn\n",
    "\n",
    "# Đường dẫn file video\n",
    "video_path = r\"C:\\Python311\\workspaces\\ai-video\\hq_6602009793454.mp4\"\n",
    "video = cv2.VideoCapture(video_path)\n",
    "\n",
    "# Số frame trên giây của video (FPS)\n",
    "fps = int(video.get(cv2.CAP_PROP_FPS))\n",
    "\n",
    "# Danh sách các đối tượng cần đếm\n",
    "object_classes = {\n",
    "    \"person\": \"Người đi bộ\",\n",
    "    \"bicycle\": \"Xe đạp\",\n",
    "    \"motorcycle\": \"Xe máy\",\n",
    "    \"car\": \"Ô tô dưới 5 chỗ\",\n",
    "    \"van\": \"Ô tô dưới 12 chỗ\",\n",
    "    \"bus\": \"Ô tô dưới 24 chỗ\",\n",
    "    \"truck\": \"Ô tô dưới 46 chỗ\",\n",
    "    \"double-decker\": \"Ô tô 2 tầng\",\n",
    "    \"three-wheeler\": \"Xe 3 gác\",\n",
    "    \"tricycle\": \"Xích lô 3 bánh\",\n",
    "    \"bike-taxi\": \"Xe đạp ôm 2 bánh\",\n",
    "    \"three-wheel-lam\": \"Xe lam 3 bánh\",\n",
    "    \"lambretta\": \"Xe Lambretta\",\n",
    "    \"tuktuk\": \"Xe túc túc thái\",\n",
    "    \"taxi\": \"Xe Taxi\",\n",
    "    \"electric-car\": \"Xe ô-tô điện\",\n",
    "    \"electric-motorcycle\": \"Xe máy điện\",\n",
    "    \"unknown\": \"Không biết\"\n",
    "}\n",
    "\n",
    "# Tạo DataFrame để lưu kết quả theo đúng định dạng mong muốn\n",
    "df = pd.DataFrame(columns=[\"FPS\"] + list(object_classes.values()))\n",
    "\n",
    "frame_count = 0\n",
    "frame_buffer = {obj: 0 for obj in object_classes.keys()}  # Bộ nhớ tạm thời để lưu dữ liệu mỗi giây\n",
    "\n",
    "while True:\n",
    "    ret, frame = video.read()\n",
    "    if not ret:\n",
    "        break\n",
    "\n",
    "    frame_count += 1\n",
    "    results = model(frame)\n",
    "\n",
    "    # Đếm số lượng từng loại đối tượng\n",
    "    for box in results[0].boxes:\n",
    "        class_id = int(box.cls[0])  # Lấy ID lớp đối tượng\n",
    "        class_name = model.names[class_id]  # Lấy tên đối tượng từ mô hình\n",
    "\n",
    "        if class_name in object_classes:\n",
    "            frame_buffer[class_name] += 1\n",
    "\n",
    "    # Khi đạt 30 frame (1 giây), lưu dữ liệu vào DataFrame\n",
    "    if frame_count % fps == 0:\n",
    "        second = frame_count // fps\n",
    "        df.loc[len(df)] = [second] + [frame_buffer[obj] / fps for obj in object_classes.keys()]\n",
    "        frame_buffer = {obj: 0 for obj in object_classes.keys()}  # Reset bộ nhớ\n",
    "\n",
    "    # Không hiển thị cửa sổ phân tích Objects để tiết kiệm RAM\n",
    "    # results[0].show() => Loại bỏ dòng này\n",
    "\n",
    "    if cv2.waitKey(1) & 0xFF == ord('q'):\n",
    "        break\n",
    "\n",
    "video.release()\n",
    "cv2.destroyAllWindows()\n",
    "\n",
    "# Xuất dữ liệu thống kê ra file Excel\n",
    "df.to_excel(r\"C:\\Python311\\workspaces\\ai-video\\traffic_fps_report.xlsx\", index=False)\n",
    "print(\"Thống kê phương tiện đã được lưu vào 'traffic_fps_report.xlsx'\")"
   ]
  },
  {
   "attachments": {
    "275c2e44-1c93-4aef-9bcc-9de14c24c99c.png": {
     "image/png": "[encoded data removed]"
    }
   },
   "cell_type": "markdown",
   "metadata": {},
   "source": [
    "![image.png](attachment:275c2e44-1c93-4aef-9bcc-9de14c24c99c.png)\n",
    "\n",
    "## Giải thích cải tiến\n",
    "\n",
    "🔹 Tắt hiển thị video (results[0].show()) để tiết kiệm RAM. \n",
    "\n",
    "🔹 Thêm cột \"Time (seconds)\" để biểu thị từng giây của video. \n",
    "\n",
    "🔹 Dùng bộ nhớ tạm thời (frame_buffer) để lưu kết quả mỗi frame trước khi tính trung bình mỗi giây. \n",
    "\n",
    "🔹 Tính trung bình số phương tiện trong 30 frame, giúp giảm trùng lặp khi đối tượng xuất hiện liên tục. \n",
    "\n",
    "🔹 Xuất ra file Excel theo đúng định dạng, giúp dễ đọc và phân tích.\n",
    "\n",
    "## Phương pháp này có hợp lý không?\n",
    "\n",
    "✅ Có! Đây là cách tiếp cận hợp lý để giảm lỗi trùng lặp khi đối tượng xuất hiện liên tục giữa các frame. \n",
    "\n",
    "✅ Tính toán trung bình trên từng giây giúp làm mịn dữ liệu, phản ánh chính xác lưu lượng phương tiện."
   ]
  },
  {
   "cell_type": "markdown",
   "metadata": {},
   "source": [
    "# Cấu hình Máy tính phù hợp với YOLO Models\n",
    "\n",
    "Desktop và Server physical để chạy CPU, RAM, GPU, SSD capacity và IOPS sẽ cần giá trị như thế nào đáp ứng chạy python 3.11, jupyter labs, notebook, ollama 3.2, open-webui với mô hình YOLO v5,v7, v8 hoặc V11, openoffice, excel , power BI Desktop.\n",
    "\n",
    "Để chạy các ứng dụng bạn đề cập, bao gồm **Python 3.11, Jupyter Labs, Notebook, Ollama 3.2, Open-WebUI**, cùng với các mô hình **YOLO v5, v7, v8, v11**, OpenOffice, Excel và Power BI Desktop, bạn sẽ cần một cấu hình phần cứng mạnh mẽ. Dưới đây là các yêu cầu chi tiết cho **Laptop, Desktop và Server vật lý**:\n",
    "\n",
    "---\n",
    "\n",
    "## **Laptop (Dành cho người dùng cá nhân, nghiên cứu nhỏ)**\n",
    "🔹 **CPU**: Intel Core i7 (thế hệ 12 trở lên 12 - 16 cores) hoặc AMD Ryzen 7  (12 - 16 cores)\n",
    "🔹 **RAM**: Tối thiểu **16GB**, khuyến nghị **32GB** nếu chạy mô hình YOLO lớn  \n",
    "🔹 **GPU**: NVIDIA RTX 3060 hoặc RTX 4060 (6GB - 8GB VRAM)  \n",
    "🔹 **SSD**: **1TB NVMe SSD**, tốc độ đọc ghi **3500MB/s** trở lên  \n",
    "🔹 **IOPS**: **100K+ IOPS** để xử lý dữ liệu nhanh  \n",
    "🔹 **Hệ điều hành**: Windows 11 hoặc Ubuntu 22.04  \n",
    "\n",
    "📌 **Lưu ý**: Laptop có thể chạy YOLO nhưng sẽ bị giới hạn bởi GPU và RAM. Nếu bạn cần huấn luyện mô hình lớn, hãy cân nhắc Desktop hoặc Server.\n",
    "\n",
    "---\n",
    "\n",
    "## **Desktop (Dành cho lập trình viên, nghiên cứu AI chuyên sâu)**\n",
    "🔹 **CPU**: Intel Core i9-13900K (16-24 cores) hoặc AMD Ryzen 9 7950X (16-24 cores)\n",
    "🔹 **RAM**: **32GB - 64GB** DDR5  \n",
    "🔹 **GPU**: NVIDIA RTX 4080 hoặc RTX 4090 (16GB - 24GB VRAM)  \n",
    "🔹 **SSD**: **2TB NVMe SSD**, tốc độ đọc ghi **5000MB/s**  \n",
    "🔹 **IOPS**: **150K+ IOPS** để xử lý dữ liệu nhanh  \n",
    "🔹 **Hệ điều hành**: Ubuntu 22.04 hoặc Windows 11  \n",
    "\n",
    "📌 **Lưu ý**: Desktop là lựa chọn tốt nhất cho nghiên cứu AI, chạy YOLO nhanh hơn laptop và có thể mở rộng phần cứng.\n",
    "\n",
    "---\n",
    "\n",
    "## **Server vật lý (Dành cho doanh nghiệp, huấn luyện mô hình lớn)**\n",
    "🔹 **CPU**: **Dual Intel Xeon Platinum 8480+** (24-32 cores + có HT trở lên) hoặc **AMD EPYC 9654**  (24-32 cores + có HT trở lên)\n",
    "🔹 **RAM**: **128GB - 512GB** DDR5 ECC  \n",
    "🔹 **GPU**: **NVIDIA A100 (40GB) hoặc H100 (80GB)**  \n",
    "🔹 **SSD**: **4TB NVMe SSD**, tốc độ đọc ghi **7000MB/s**  \n",
    "🔹 **IOPS**: **200K+ IOPS** để xử lý dữ liệu lớn  \n",
    "🔹 **Hệ điều hành**: Ubuntu Server 22.04  \n",
    "\n",
    "📌 **Lưu ý**: Server vật lý phù hợp cho huấn luyện mô hình YOLO lớn, xử lý dữ liệu nhanh và hỗ trợ nhiều GPU.\n",
    "\n",
    "---\n",
    "\n",
    "## **Tóm tắt**\n",
    "| Loại máy | CPU | RAM | GPU | SSD | IOPS |\n",
    "|----------|----------------|------------|----------------|------------|------------|\n",
    "| **Laptop** | i7 / Ryzen 7(12-16 cores)| 16GB - 32GB | RTX 3060 / 4060 | 1TB NVMe | 100K+ |\n",
    "| **Desktop** | i9 / Ryzen 9(16-24 cores) | 32GB - 64GB | RTX 4080 / 4090 | 2TB NVMe | 150K+ |\n",
    "| **Server** | Xeon / EPYC(24-32 cores + có HT trở lên) | 128GB - 512GB | A100 / H100 | 4TB NVMe | 200K+ |\n",
    "\n",
    "Bạn có thể tham khảo thêm thông tin chi tiết về yêu cầu phần cứng cho YOLO [tại đây](https://docs.ultralytics.com/help/FAQ/) và [tại đây](https://www.proxpc.com/blogs/system-hardware-requirements-for-yolo-in-2025)"
   ]
  },
  {
   "cell_type": "code",
   "execution_count": null,
   "metadata": {},
   "outputs": [],
   "source": []
  }
 ],
 "metadata": {
  "accelerator": "GPU",
  "colab": {
   "name": "YOLOv5 Tutorial",
   "provenance": []
  },
  "kernelspec": {
   "display_name": "Python 3 (ipykernel)",
   "language": "python",
   "name": "python3"
  },
  "language_info": {
   "codemirror_mode": {
    "name": "ipython",
    "version": 3
   },
   "file_extension": ".py",
   "mimetype": "text/x-python",
   "name": "python",
   "nbconvert_exporter": "python",
   "pygments_lexer": "ipython3",
   "version": "3.11.5"
  },
  "widgets": {
   "application/vnd.jupyter.widget-state+json": {
    "state": {},
    "version_major": 2,
    "version_minor": 0
   }
  }
 },
 "nbformat": 4,
 "nbformat_minor": 4
}
